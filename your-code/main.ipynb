{
  "nbformat": 4,
  "nbformat_minor": 0,
  "metadata": {
    "kernelspec": {
      "display_name": "Python 3",
      "language": "python",
      "name": "python3"
    },
    "language_info": {
      "codemirror_mode": {
        "name": "ipython",
        "version": 3
      },
      "file_extension": ".py",
      "mimetype": "text/x-python",
      "name": "python",
      "nbconvert_exporter": "python",
      "pygments_lexer": "ipython3",
      "version": "3.6.6"
    },
    "colab": {
      "name": "main.ipynb",
      "provenance": [],
      "collapsed_sections": []
    }
  },
  "cells": [
    {
      "cell_type": "markdown",
      "metadata": {
        "id": "oGq9IGnoN1mg",
        "colab_type": "text"
      },
      "source": [
        "# Before your start:\n",
        "- Read the README.md file\n",
        "- Comment as much as you can and use the resources in the README.md file\n",
        "- Happy learning!"
      ]
    },
    {
      "cell_type": "code",
      "metadata": {
        "id": "WIqN6ymUN1mi",
        "colab_type": "code",
        "colab": {}
      },
      "source": [
        "import math"
      ],
      "execution_count": 0,
      "outputs": []
    },
    {
      "cell_type": "markdown",
      "metadata": {
        "id": "WbujiZIwN1mo",
        "colab_type": "text"
      },
      "source": [
        "# Challenge 1 - Handling Errors Using `try` and `except`\n",
        "\n",
        "The `try` and `except` clauses create a block for handling exceptions. When we wrap code in this block, we first attempt the code in the `try` and if an error is thrown, we can handle specific errors or all errors in the `except` portion.\n",
        "\n",
        "In the 4 cells below, modify the code to catch the error and print a meaningful message that will alert the user what went wrong. You may catch the error using a general `except` or a specific `except` for the error caused by the code."
      ]
    },
    {
      "cell_type": "code",
      "metadata": {
        "id": "Wn4dyQIUN1mp",
        "colab_type": "code",
        "outputId": "9bbdd67e-f3e1-4ef1-9491-ba4a85d9837b",
        "colab": {
          "base_uri": "https://localhost:8080/",
          "height": 34
        }
      },
      "source": [
        "# Modify the code below:\n",
        "\n",
        "try:\n",
        "  print(some_string)\n",
        "except:\n",
        "  print(\"Another\")\n",
        "\n"
      ],
      "execution_count": 0,
      "outputs": [
        {
          "output_type": "stream",
          "text": [
            "Another\n"
          ],
          "name": "stdout"
        }
      ]
    },
    {
      "cell_type": "code",
      "metadata": {
        "id": "d6zBVMAtN1ms",
        "colab_type": "code",
        "outputId": "7adf80b2-90b9-440a-d0f9-4c52819ef628",
        "colab": {
          "base_uri": "https://localhost:8080/",
          "height": 50
        }
      },
      "source": [
        "# Modify the code below:\n",
        "\n",
        "try:\n",
        "  for i in ['a','b','c']:\n",
        "    print (i**2)\n",
        "except:\n",
        "  print(\"Operation not avaliable\")\n",
        "else:\n",
        "  print(\"Operation completed\")\n",
        "finally:\n",
        "  print(\"Executed\")"
      ],
      "execution_count": 0,
      "outputs": [
        {
          "output_type": "stream",
          "text": [
            "Operation not avaliable\n",
            "Executed\n"
          ],
          "name": "stdout"
        }
      ]
    },
    {
      "cell_type": "code",
      "metadata": {
        "id": "ZyLuu9LcN1mu",
        "colab_type": "code",
        "outputId": "a3036afa-d9ee-43b6-cf0f-a5df987992ab",
        "colab": {
          "base_uri": "https://localhost:8080/",
          "height": 34
        }
      },
      "source": [
        "# Modify the code below:\n",
        "\n",
        "x = 5\n",
        "y = 0\n",
        "\n",
        "try:\n",
        "  z = x/y\n",
        "  print(\"Division completed\")\n",
        "except:\n",
        "  print(\"Not divisible\")\n",
        "  "
      ],
      "execution_count": 0,
      "outputs": [
        {
          "output_type": "stream",
          "text": [
            "Not divisible\n"
          ],
          "name": "stdout"
        }
      ]
    },
    {
      "cell_type": "code",
      "metadata": {
        "id": "AI_aBeL2N1mx",
        "colab_type": "code",
        "outputId": "593ecc66-b15f-4acd-f89f-c6ebf2ab0dee",
        "colab": {
          "base_uri": "https://localhost:8080/",
          "height": 34
        }
      },
      "source": [
        "# Modify the code below:\n",
        "\n",
        "abc=[10,20,20]\n",
        "\n",
        "try:\n",
        "  print(abc[3])\n",
        "  print(\"OK\")\n",
        "except:\n",
        "  print(\"Operation out of range\")"
      ],
      "execution_count": 0,
      "outputs": [
        {
          "output_type": "stream",
          "text": [
            "Operation out of range\n"
          ],
          "name": "stdout"
        }
      ]
    },
    {
      "cell_type": "markdown",
      "metadata": {
        "id": "nNSHoyVsN1m0",
        "colab_type": "text"
      },
      "source": [
        "# Challenge 2 - Handling Errors Using `if` Statements\n",
        "\n",
        "In many cases, we are able to identify issues that may come up in our code and handle those handlful of issues with an `if` statment. Sometimes we would like to handle different types of inputs and are aware that later in the code, we will have to write two different branches of code for the two different cases we allowed in the beginning.\n",
        "\n",
        "In the 3 cells below, add an `if` statment that will handle both types of input allowed in the functions."
      ]
    },
    {
      "cell_type": "code",
      "metadata": {
        "id": "MyMQYn-lN1m0",
        "colab_type": "code",
        "outputId": "45a7f7fc-91e0-43a2-bc98-e7ed5cceec8f",
        "colab": {
          "base_uri": "https://localhost:8080/",
          "height": 50
        }
      },
      "source": [
        "# Modify the code below to handle positive and negative numbers by adding an if statement and performing a transformation:\n",
        "\n",
        "def sqrt_for_all(x):\n",
        "\n",
        "  try:\n",
        "    if x > 0:\n",
        "      print(\"El valor se conservó\")\n",
        "      x=x\n",
        "    else:\n",
        "      print(\"El valor se convirtió en positivo\")\n",
        "      x=x*-1\n",
        "  except:\n",
        "    print(\"Ingresa un número\")\n",
        "\n",
        "    # This function will take any real number and return the square root of its magnitude\n",
        "    # Input: real number\n",
        "    # Output: real number\n",
        "    \n",
        "    # Sample Input: -4\n",
        "    # Sample Output: 2.0\n",
        "\n",
        "  return math.sqrt(x)\n",
        "\n",
        "sqrt_for_all(-1)"
      ],
      "execution_count": 0,
      "outputs": [
        {
          "output_type": "stream",
          "text": [
            "El valor se convirtió en positivo\n"
          ],
          "name": "stdout"
        },
        {
          "output_type": "execute_result",
          "data": {
            "text/plain": [
              "1.0"
            ]
          },
          "metadata": {
            "tags": []
          },
          "execution_count": 56
        }
      ]
    },
    {
      "cell_type": "code",
      "metadata": {
        "id": "ZP_q4oh7N1m-",
        "colab_type": "code",
        "outputId": "75625742-eef2-4d7d-b2da-4df9f6f111b8",
        "colab": {
          "base_uri": "https://localhost:8080/",
          "height": 34
        }
      },
      "source": [
        "# Modify the code below to handle zero as well. In the case of zero, return zero\n",
        "\n",
        "def divide(x, y):\n",
        "  #\n",
        "\n",
        "  if y == 0:\n",
        "    return 0\n",
        "  else:\n",
        "    return x/y\n",
        "\n",
        "    # This function will take any two real numbers and return their quotient. If the denominator is zero, we return zero\n",
        "    # Input: real number\n",
        "    # Output: real number\n",
        "    \n",
        "    # Sample Input: 5, 1\n",
        "    # Sample Output: 5.0\n",
        "\n",
        "\n",
        "divide(5, 1)"
      ],
      "execution_count": 0,
      "outputs": [
        {
          "output_type": "execute_result",
          "data": {
            "text/plain": [
              "5.0"
            ]
          },
          "metadata": {
            "tags": []
          },
          "execution_count": 65
        }
      ]
    },
    {
      "cell_type": "code",
      "metadata": {
        "id": "1tVZfSCRN1nB",
        "colab_type": "code",
        "outputId": "b3c29285-829b-4ce8-ab78-4b7122c8c08a",
        "colab": {
          "base_uri": "https://localhost:8080/",
          "height": 34
        }
      },
      "source": [
        "# Modify the function below that it will take either an number and a list or two numbers. \n",
        "# If we take two numbers, add them together and return a list of length 1. \n",
        "# Otherwise, add the number to every element of the list and return the resulting list\n",
        "\n",
        "def add_elements(a, l):\n",
        "  lista1=[]\n",
        "  if type(l) == int:\n",
        "    lista=[]\n",
        "    w = a+l \n",
        "    lista.append(w)\n",
        "    return lista\n",
        "  elif  type(l) == list:\n",
        "    for element in l:\n",
        "      w = a+element\n",
        "      lista1.append(w)\n",
        "    return lista1\n",
        "\n",
        "\n",
        "    # This function takes either two numbers or a list and a number and adds the number to all elements of the list\n",
        "    # If the function only takes two numbers, it returns a list of length one that is the sum of the numbers\n",
        "    \n",
        "    # Input: number and list or two numbers\n",
        "    # Output: list\n",
        "    \n",
        "    # Sample Input: 5, 6\n",
        "    # Sample Output: [11]\n",
        "   # return [a + element for element in l]\n",
        "        \n",
        "add_elements(5, [6,8,11])"
      ],
      "execution_count": 0,
      "outputs": [
        {
          "output_type": "execute_result",
          "data": {
            "text/plain": [
              "[11, 13, 16]"
            ]
          },
          "metadata": {
            "tags": []
          },
          "execution_count": 73
        }
      ]
    },
    {
      "cell_type": "markdown",
      "metadata": {
        "id": "XGcNAIk0N1nE",
        "colab_type": "text"
      },
      "source": [
        "# Challenge 3 - Fixing Errors to Get Code to Run\n",
        "\n",
        "Sometimes the error is not caused by the input but by the code itself. In the 2 following cells below, examine the error and correct the code to avoid the error."
      ]
    },
    {
      "cell_type": "code",
      "metadata": {
        "id": "NUMBxl0AN1nE",
        "colab_type": "code",
        "outputId": "7df4327b-2b15-4a6d-f5ea-0379aa5dd2af",
        "colab": {
          "base_uri": "https://localhost:8080/",
          "height": 34
        }
      },
      "source": [
        "# Modify the code below:\n",
        "\n",
        "l = [1,2,3,4]\n",
        "\n",
        "sum([element + 1 for element in l])"
      ],
      "execution_count": 0,
      "outputs": [
        {
          "output_type": "execute_result",
          "data": {
            "text/plain": [
              "14"
            ]
          },
          "metadata": {
            "tags": []
          },
          "execution_count": 74
        }
      ]
    },
    {
      "cell_type": "code",
      "metadata": {
        "id": "VfxFvJoaN1nI",
        "colab_type": "code",
        "outputId": "0565fe8d-a669-4058-d865-131fa024e764",
        "colab": {
          "base_uri": "https://localhost:8080/",
          "height": 84
        }
      },
      "source": [
        "# Modify the code below:\n",
        "\n",
        "l = [1,2,3,4]\n",
        "\n",
        "for element in l:\n",
        "    print(\"The current element in the loop is \" + str(element))"
      ],
      "execution_count": 0,
      "outputs": [
        {
          "output_type": "stream",
          "text": [
            "The current element in the loop is 1\n",
            "The current element in the loop is 2\n",
            "The current element in the loop is 3\n",
            "The current element in the loop is 4\n"
          ],
          "name": "stdout"
        }
      ]
    },
    {
      "cell_type": "markdown",
      "metadata": {
        "id": "Ygsp9WEsN1nN",
        "colab_type": "text"
      },
      "source": [
        "# Challenge 4 - Raise Errors on Your Own\n",
        "\n",
        "There are cases where you need to alert your users of a problem even if the input will not immediately produce an error. In these cases you may want to throw an error yourself to bring attention to the problem. In the 2 cells below, write the functions as directed and add the appropriate errors using the `raise` clause. Make sure to add a meaningful error message."
      ]
    },
    {
      "cell_type": "code",
      "metadata": {
        "id": "A6yPiUPpN1nN",
        "colab_type": "code",
        "outputId": "6f409e07-972a-46ad-b8ad-9c28cd924afe",
        "colab": {
          "base_uri": "https://localhost:8080/",
          "height": 50
        }
      },
      "source": [
        "def log_square(x):\n",
        "    # This function takes a numeric value and returns the natural log of the square of the number \n",
        "    # The function raises an error if the number is equal to zero\n",
        "    # Use the math.log function in this funtion\n",
        "    \n",
        "    # Input: real number\n",
        "    # Output: real number or error\n",
        "    \n",
        "    # Sample Input: 5\n",
        "    # Sample Output: 3.21887\n",
        "    \n",
        "    # Your code here:\n",
        "\n",
        "    if x == 0:\n",
        "      raise ValueError ('El 0 no es aceptado')\n",
        "    else:\n",
        "      print(\"Número aceptado\")\n",
        "    w=math.log(x)\n",
        "    w=math.sqrt(w)\n",
        "    return w\n",
        "print(log_square(5))\n",
        "\n"
      ],
      "execution_count": 0,
      "outputs": [
        {
          "output_type": "stream",
          "text": [
            "Número aceptado\n",
            "1.2686362411795196\n"
          ],
          "name": "stdout"
        }
      ]
    },
    {
      "cell_type": "code",
      "metadata": {
        "id": "mMSMIR6JN1nR",
        "colab_type": "code",
        "outputId": "da92be5b-2316-495b-b480-4f3eb541819d",
        "colab": {
          "base_uri": "https://localhost:8080/",
          "height": 330
        }
      },
      "source": [
        "def check_capital(p):\n",
        "\n",
        "  #\n",
        "    # This function returns true if the string contains at least one capital letter and throws an error otherwise\n",
        "    # Input: string\n",
        "    # Output: bool or error message\n",
        "    \n",
        "    # Sample Input: 'John'\n",
        "    # Sample Output: True\n",
        "    \n",
        "    # Your code here:\n",
        "\n",
        "  if (i.isupper()for i in p):\n",
        "    print(i)\n",
        "    raise ValueError (\"Tiene mayúsculas\")\n",
        "  else:\n",
        "    print(\"No tiene mayúsculas\")\n",
        "\n",
        "check_capital(\"john\")"
      ],
      "execution_count": 0,
      "outputs": [
        {
          "output_type": "stream",
          "text": [
            "a\n"
          ],
          "name": "stdout"
        },
        {
          "output_type": "error",
          "ename": "ValueError",
          "evalue": "ignored",
          "traceback": [
            "\u001b[0;31m---------------------------------------------------------------------------\u001b[0m",
            "\u001b[0;31mValueError\u001b[0m                                Traceback (most recent call last)",
            "\u001b[0;32m<ipython-input-97-5f558aaae7d8>\u001b[0m in \u001b[0;36m<module>\u001b[0;34m()\u001b[0m\n\u001b[1;32m     17\u001b[0m     \u001b[0mprint\u001b[0m\u001b[0;34m(\u001b[0m\u001b[0;34m\"No tiene mayúsculas\"\u001b[0m\u001b[0;34m)\u001b[0m\u001b[0;34m\u001b[0m\u001b[0;34m\u001b[0m\u001b[0m\n\u001b[1;32m     18\u001b[0m \u001b[0;34m\u001b[0m\u001b[0m\n\u001b[0;32m---> 19\u001b[0;31m \u001b[0mcheck_capital\u001b[0m\u001b[0;34m(\u001b[0m\u001b[0;34m\"john\"\u001b[0m\u001b[0;34m)\u001b[0m\u001b[0;34m\u001b[0m\u001b[0;34m\u001b[0m\u001b[0m\n\u001b[0m",
            "\u001b[0;32m<ipython-input-97-5f558aaae7d8>\u001b[0m in \u001b[0;36mcheck_capital\u001b[0;34m(p)\u001b[0m\n\u001b[1;32m     13\u001b[0m   \u001b[0;32mif\u001b[0m \u001b[0;34m(\u001b[0m\u001b[0mi\u001b[0m\u001b[0;34m.\u001b[0m\u001b[0misupper\u001b[0m\u001b[0;34m(\u001b[0m\u001b[0;34m)\u001b[0m\u001b[0;32mfor\u001b[0m \u001b[0mi\u001b[0m \u001b[0;32min\u001b[0m \u001b[0mp\u001b[0m\u001b[0;34m)\u001b[0m\u001b[0;34m:\u001b[0m\u001b[0;34m\u001b[0m\u001b[0;34m\u001b[0m\u001b[0m\n\u001b[1;32m     14\u001b[0m     \u001b[0mprint\u001b[0m\u001b[0;34m(\u001b[0m\u001b[0mi\u001b[0m\u001b[0;34m)\u001b[0m\u001b[0;34m\u001b[0m\u001b[0;34m\u001b[0m\u001b[0m\n\u001b[0;32m---> 15\u001b[0;31m     \u001b[0;32mraise\u001b[0m \u001b[0mValueError\u001b[0m \u001b[0;34m(\u001b[0m\u001b[0;34m\"Tiene mayúsculas\"\u001b[0m\u001b[0;34m)\u001b[0m\u001b[0;34m\u001b[0m\u001b[0;34m\u001b[0m\u001b[0m\n\u001b[0m\u001b[1;32m     16\u001b[0m   \u001b[0;32melse\u001b[0m\u001b[0;34m:\u001b[0m\u001b[0;34m\u001b[0m\u001b[0;34m\u001b[0m\u001b[0m\n\u001b[1;32m     17\u001b[0m     \u001b[0mprint\u001b[0m\u001b[0;34m(\u001b[0m\u001b[0;34m\"No tiene mayúsculas\"\u001b[0m\u001b[0;34m)\u001b[0m\u001b[0;34m\u001b[0m\u001b[0;34m\u001b[0m\u001b[0m\n",
            "\u001b[0;31mValueError\u001b[0m: Tiene mayúsculas"
          ]
        }
      ]
    },
    {
      "cell_type": "markdown",
      "metadata": {
        "id": "mOfYsg1mN1nT",
        "colab_type": "text"
      },
      "source": [
        "# Bonus Challenge - Optional Types\n",
        "\n",
        "The optional type is a data type that allows a variable to be either a defined type (like integer, string, etc.) or None. Optional types are defined in the `typing` library. They allow us to transition Python to a statically typed language (as far as our syntax goes). To read more about the `typing` library, click [here](https://docs.python.org/3/library/typing.html#typing.Optional). \n",
        "\n",
        "In the cell below, use the optional type to write a function that can handle both floats and `None` type. This function converts Celcius to Fahrenheit. If we pass `None` to the function, we should return `None`, otherwise, we will compute the converted temperature"
      ]
    },
    {
      "cell_type": "code",
      "metadata": {
        "id": "PYce6od5N1nU",
        "colab_type": "code",
        "colab": {}
      },
      "source": [
        "from typing import Optional\n",
        "\n",
        "def temp_convert(arg: Optional[float]) -> Optional[float]:\n",
        "    # This function takes either float or None and returns either None or a converted temperature\n",
        "    # Input: Optional[float]\n",
        "    # Output: Optional[float]\n",
        "    \n",
        "    # Sample Input: 5\n",
        "    # Sample Output: 41.0\n",
        "    \n",
        "    #Your Code here:\n",
        "        "
      ],
      "execution_count": 0,
      "outputs": []
    }
  ]
}